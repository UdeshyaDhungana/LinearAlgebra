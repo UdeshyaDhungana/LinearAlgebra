{
 "cells": [
  {
   "cell_type": "markdown",
   "id": "d18ad9a1",
   "metadata": {},
   "source": [
    "# Solutions to Lecture 4"
   ]
  },
  {
   "cell_type": "markdown",
   "id": "b3cc2c47",
   "metadata": {},
   "source": [
    "## 2"
   ]
  },
  {
   "cell_type": "code",
   "execution_count": 2,
   "id": "49f0ea39",
   "metadata": {},
   "outputs": [
    {
     "name": "stdout",
     "output_type": "stream",
     "text": [
      "[-1.0, 2.0]\n",
      "[-0.894427 -0.707107; 0.447214 -0.707107]\n"
     ]
    }
   ],
   "source": [
    "using LinearAlgebra\n",
    "\n",
    "a = [0 2;1 1]\n",
    "lam_a, x_a = eigen(a)\n",
    "println(lam_a)\n",
    "println(x_a)"
   ]
  },
  {
   "cell_type": "code",
   "execution_count": 3,
   "id": "d929989b",
   "metadata": {},
   "outputs": [
    {
     "name": "stdout",
     "output_type": "stream",
     "text": [
      "[-1.0, 2.0]\n",
      "[-0.894427 -0.707107; 0.447214 -0.707107]\n"
     ]
    }
   ],
   "source": [
    "ainv = inv(a)\n",
    "lam_ai, x_ai = eigen(a)\n",
    "println(lam_ai)\n",
    "println(x_ai)"
   ]
  },
  {
   "cell_type": "markdown",
   "id": "2e411c7c",
   "metadata": {},
   "source": [
    "$A^{-1}$ has same eigenvectors as $A$. Eigenvalues of $A^{-1}$ are inverse of that of eigenvalues of $A$.\n",
    "\n",
    "This is because $A^{-1}$ is the transformation that undoes the effect of $A$. $A$ scales its eigenvectors by $\\lambda{}$, then, $A^{-1}$ must undo this, i.e. scale them by $\\frac{1}{\\lambda{}}$. Also, the same vectors which are eigenvectors of $A$ are scaled back by $A^{-1}$, so the eigenvectors of $A^{-1}$ are also the same.\n",
    "\n",
    "---"
   ]
  },
  {
   "cell_type": "markdown",
   "id": "93b8bf52",
   "metadata": {},
   "source": [
    "## 11"
   ]
  },
  {
   "cell_type": "markdown",
   "id": "486a6c93",
   "metadata": {},
   "source": [
    "We know that $det(A) = det(A^T)$. Here's why.\n",
    "\n",
    "$$PA = LU$$\n",
    "\n",
    "This means that matrix $P$ re-orders the rows of $A$ for $ref(A)$ operation, $PA$ changes to $LU$ upon factorizing. Also,\n",
    "\n",
    "$$det(AB) = det(A) \\cdot det(B)$$\n",
    "\n",
    "$$det(P) \\cdot det(A) = det(L) \\cdot det(U)$$ \n",
    "\n",
    "This also yields\n",
    "\n",
    "$$det(P^T) \\cdot det(A^T) = det(L^T) \\cdot det(U^T)$$\n",
    "\n",
    "First, $det(L) = det(L^T)$ (both have 1 in their diagonal) and $det(U) = det(U^T)$ (those triangular matrices have the same diagonal). Third, $det(P) = det(P^T)$ because $P^TP = I$ and permutation matrices have determinant $1$ or $-1$. So both must be $1$ or both must be $-1$. That leaves us with\n",
    "\n",
    "$$det(A) = det(A^T)$$\n",
    "\n",
    "Now, coming to the answer.\n",
    "\n",
    "$$det(A-\\lambda{}I) = det(A-\\lambda{}I)^T$$\n",
    "\n",
    "Since, $I^T = I$,\n",
    "\n",
    "$$det(A-\\lambda{}I) = det(A^T-\\lambda{}I)$$ "
   ]
  },
  {
   "cell_type": "code",
   "execution_count": 9,
   "id": "3a2ad724",
   "metadata": {
    "scrolled": true
   },
   "outputs": [
    {
     "name": "stdout",
     "output_type": "stream",
     "text": [
      "[-0.824565 -0.415974; 0.565767 -0.909377]\n",
      "[-0.909377 -0.565767; 0.415974 -0.824565]\n"
     ]
    }
   ],
   "source": [
    "# An example to show eigenvectors of b and b^T are different\n",
    "b = [1 2;3 4]\n",
    "bt = Matrix(transpose(b))\n",
    "\n",
    "_, b_eig = eigen(b)\n",
    "_1, bt_eig = eigen(bt)\n",
    "\n",
    "println(b_eig)\n",
    "println(bt_eig)"
   ]
  },
  {
   "cell_type": "markdown",
   "id": "6adc572a",
   "metadata": {},
   "source": [
    "---"
   ]
  },
  {
   "cell_type": "markdown",
   "id": "30426925",
   "metadata": {},
   "source": [
    "## 15"
   ]
  },
  {
   "cell_type": "code",
   "execution_count": 27,
   "id": "cfefa71d",
   "metadata": {},
   "outputs": [
    {
     "name": "stdout",
     "output_type": "stream",
     "text": [
      "Result from diagonalization:\n",
      "[1.0 26.0; 0.0 27.0]\n",
      "Actual result:\n",
      "[1.0 26.0; 0.0 27.0]\n",
      "Result from diagonalization:\n",
      "[1.0 -0.666667; 0.0 0.333333]\n",
      "Actual result:\n",
      "[1.0 -0.666667; 0.0 0.333333]\n"
     ]
    }
   ],
   "source": [
    "A = [1 2;0 3] * 1.0\n",
    "lam_A, X_A = eigen(A)\n",
    "Lambda_A = lam_A .* Matrix(1.0I, size(A))\n",
    "\n",
    "A3 = X_A * Lambda_A^(3) * inv(X_A)\n",
    "Ainv = X_A * (Lambda_A)^(-1) * inv(X_A)\n",
    "\n",
    "println(\"Result from diagonalization:\")\n",
    "println(A3)\n",
    "println(\"Actual result:\")\n",
    "println(A^3)\n",
    "\n",
    "println(\"Result from diagonalization:\")\n",
    "println(Ainv)\n",
    "println(\"Actual result:\")\n",
    "println(A^-1)"
   ]
  },
  {
   "cell_type": "code",
   "execution_count": 30,
   "id": "d5b75714",
   "metadata": {},
   "outputs": [
    {
     "name": "stdout",
     "output_type": "stream",
     "text": [
      "Result from diagonalization:\n",
      "[16.0 16.0; 48.0 48.0]\n",
      "Actual result:\n",
      "[16.0 16.0; 48.0 48.0]\n"
     ]
    }
   ],
   "source": [
    "B = [1 1;3 3] * 1.0\n",
    "lam_B, X_B = eigen(B)\n",
    "Lambda_B = lam_B .* Matrix(1.0I, size(B))\n",
    "\n",
    "B3 = X_B * (Lambda_B)^(3) * inv(X_B)\n",
    "\n",
    "# Inverse does not exist\n",
    "# Binv = X_B * (Lambda_B)^(-1) * inv(X_B)\n",
    "\n",
    "println(\"Result from diagonalization:\")\n",
    "println(B3)\n",
    "println(\"Actual result:\")\n",
    "println(B^3)\n",
    "\n",
    "# This results in SingularException Error\n",
    "# println(\"Result from diagonalization:\")\n",
    "# println(Binv)\n",
    "# println(\"Actual result:\")\n",
    "# println(B^-1)"
   ]
  }
 ],
 "metadata": {
  "kernelspec": {
   "display_name": "Julia 1.0.3",
   "language": "julia",
   "name": "julia-1.0"
  },
  "language_info": {
   "file_extension": ".jl",
   "mimetype": "application/julia",
   "name": "julia",
   "version": "1.0.3"
  }
 },
 "nbformat": 4,
 "nbformat_minor": 5
}
